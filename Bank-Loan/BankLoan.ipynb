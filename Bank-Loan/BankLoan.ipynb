{
 "cells": [
  {
   "cell_type": "markdown",
   "metadata": {
    "id": "19Qv1B5JWpf-"
   },
   "source": [
    "## 1. IMPORT AND READ DATA"
   ]
  },
  {
   "cell_type": "code",
   "execution_count": 2,
   "metadata": {
    "executionInfo": {
     "elapsed": 577,
     "status": "ok",
     "timestamp": 1648693209156,
     "user": {
      "displayName": "Ann Tran",
      "userId": "15798122337385944061"
     },
     "user_tz": -420
    },
    "id": "99OU0pYhISc6"
   },
   "outputs": [],
   "source": [
    "import numpy as np\n",
    "import pandas as pd\n",
    "import warnings\n",
    "warnings.filterwarnings('ignore')\n",
    "import seaborn as sns\n",
    "import matplotlib.pyplot as plt\n"
   ]
  },
  {
   "cell_type": "code",
   "execution_count": 8,
   "metadata": {},
   "outputs": [],
   "source": [
    "df=pd.read_csv('credit_train.csv')"
   ]
  },
  {
   "cell_type": "code",
   "execution_count": 9,
   "metadata": {
    "colab": {
     "base_uri": "https://localhost:8080/"
    },
    "executionInfo": {
     "elapsed": 68,
     "status": "ok",
     "timestamp": 1648693250756,
     "user": {
      "displayName": "Ann Tran",
      "userId": "15798122337385944061"
     },
     "user_tz": -420
    },
    "id": "neSJ2Mr2Qoge",
    "outputId": "e025865e-3bd0-45ee-dc4c-626763d01a75"
   },
   "outputs": [
    {
     "data": {
      "text/plain": [
       "(100514, 19)"
      ]
     },
     "execution_count": 9,
     "metadata": {},
     "output_type": "execute_result"
    }
   ],
   "source": [
    "df.shape"
   ]
  },
  {
   "cell_type": "code",
   "execution_count": 10,
   "metadata": {
    "colab": {
     "base_uri": "https://localhost:8080/"
    },
    "executionInfo": {
     "elapsed": 64,
     "status": "ok",
     "timestamp": 1648693250758,
     "user": {
      "displayName": "Ann Tran",
      "userId": "15798122337385944061"
     },
     "user_tz": -420
    },
    "id": "ZUaSIC_sROMc",
    "outputId": "18905df6-0985-4999-a412-1293f14ceca0"
   },
   "outputs": [
    {
     "name": "stdout",
     "output_type": "stream",
     "text": [
      "<class 'pandas.core.frame.DataFrame'>\n",
      "RangeIndex: 100514 entries, 0 to 100513\n",
      "Data columns (total 19 columns):\n",
      " #   Column                        Non-Null Count   Dtype  \n",
      "---  ------                        --------------   -----  \n",
      " 0   Loan ID                       100000 non-null  object \n",
      " 1   Customer ID                   100000 non-null  object \n",
      " 2   Loan Status                   100000 non-null  object \n",
      " 3   Current Loan Amount           100000 non-null  float64\n",
      " 4   Term                          100000 non-null  object \n",
      " 5   Credit Score                  80846 non-null   float64\n",
      " 6   Annual Income                 80846 non-null   float64\n",
      " 7   Years in current job          95778 non-null   object \n",
      " 8   Home Ownership                100000 non-null  object \n",
      " 9   Purpose                       100000 non-null  object \n",
      " 10  Monthly Debt                  100000 non-null  float64\n",
      " 11  Years of Credit History       100000 non-null  float64\n",
      " 12  Months since last delinquent  46859 non-null   float64\n",
      " 13  Number of Open Accounts       100000 non-null  float64\n",
      " 14  Number of Credit Problems     100000 non-null  float64\n",
      " 15  Current Credit Balance        100000 non-null  float64\n",
      " 16  Maximum Open Credit           99998 non-null   float64\n",
      " 17  Bankruptcies                  99796 non-null   float64\n",
      " 18  Tax Liens                     99990 non-null   float64\n",
      "dtypes: float64(12), object(7)\n",
      "memory usage: 14.6+ MB\n"
     ]
    }
   ],
   "source": [
    "#check overall data\n",
    "df.info()"
   ]
  },
  {
   "cell_type": "code",
   "execution_count": 10,
   "metadata": {
    "colab": {
     "base_uri": "https://localhost:8080/"
    },
    "executionInfo": {
     "elapsed": 60,
     "status": "ok",
     "timestamp": 1648693250759,
     "user": {
      "displayName": "Ann Tran",
      "userId": "15798122337385944061"
     },
     "user_tz": -420
    },
    "id": "Gq2nX723RWaR",
    "outputId": "20c4417d-0de7-41aa-9adf-0dcdc60a864b"
   },
   "outputs": [
    {
     "data": {
      "text/plain": [
       "Loan ID                           514\n",
       "Customer ID                       514\n",
       "Loan Status                       514\n",
       "Current Loan Amount               514\n",
       "Term                              514\n",
       "Credit Score                    19668\n",
       "Annual Income                   19668\n",
       "Years in current job             4736\n",
       "Home Ownership                    514\n",
       "Purpose                           514\n",
       "Monthly Debt                      514\n",
       "Years of Credit History           514\n",
       "Months since last delinquent    53655\n",
       "Number of Open Accounts           514\n",
       "Number of Credit Problems         514\n",
       "Current Credit Balance            514\n",
       "Maximum Open Credit               516\n",
       "Bankruptcies                      718\n",
       "Tax Liens                         524\n",
       "dtype: int64"
      ]
     },
     "execution_count": 10,
     "metadata": {},
     "output_type": "execute_result"
    }
   ],
   "source": [
    "#check null info of each collumn\n",
    "df.isnull().sum()"
   ]
  },
  {
   "cell_type": "code",
   "execution_count": 11,
   "metadata": {
    "colab": {
     "base_uri": "https://localhost:8080/"
    },
    "executionInfo": {
     "elapsed": 57,
     "status": "ok",
     "timestamp": 1648693250761,
     "user": {
      "displayName": "Ann Tran",
      "userId": "15798122337385944061"
     },
     "user_tz": -420
    },
    "id": "lW4FWDL3Sipr",
    "outputId": "09b9957d-f519-45a4-c70e-b7d0426016d6"
   },
   "outputs": [
    {
     "name": "stdout",
     "output_type": "stream",
     "text": [
      "10728\n"
     ]
    }
   ],
   "source": [
    "#find number of duplicate data\n",
    "df_dup=df.duplicated()\n",
    "print( df_dup.sum())"
   ]
  },
  {
   "cell_type": "code",
   "execution_count": 12,
   "metadata": {
    "executionInfo": {
     "elapsed": 54,
     "status": "ok",
     "timestamp": 1648693250763,
     "user": {
      "displayName": "Ann Tran",
      "userId": "15798122337385944061"
     },
     "user_tz": -420
    },
    "id": "ITs44bVpVgoz"
   },
   "outputs": [],
   "source": [
    "#check the change in columns name\n",
    "df.columns=df.columns.str.replace(' ','')\n"
   ]
  },
  {
   "cell_type": "markdown",
   "metadata": {
    "id": "a3Ku2FgjWmdK"
   },
   "source": [
    "## 2. CLEAN DATA"
   ]
  },
  {
   "cell_type": "markdown",
   "metadata": {
    "id": "Ei2y0IRIizfN"
   },
   "source": []
  },
  {
   "cell_type": "code",
   "execution_count": 13,
   "metadata": {
    "executionInfo": {
     "elapsed": 54,
     "status": "ok",
     "timestamp": 1648693250764,
     "user": {
      "displayName": "Ann Tran",
      "userId": "15798122337385944061"
     },
     "user_tz": -420
    },
    "id": "inmNRLjSWaAI"
   },
   "outputs": [],
   "source": [
    "# there are 514 null data in loanid and some other colummns, those are blank cells, let's drop it\n",
    "df1=df.dropna(subset = ['LoanID'])"
   ]
  },
  {
   "cell_type": "code",
   "execution_count": 14,
   "metadata": {
    "colab": {
     "base_uri": "https://localhost:8080/"
    },
    "executionInfo": {
     "elapsed": 53,
     "status": "ok",
     "timestamp": 1648693250765,
     "user": {
      "displayName": "Ann Tran",
      "userId": "15798122337385944061"
     },
     "user_tz": -420
    },
    "id": "RvE5FI-OXmWF",
    "outputId": "6585da9b-016e-400c-b60e-26f83811c133"
   },
   "outputs": [
    {
     "data": {
      "text/plain": [
       "(100000, 19)"
      ]
     },
     "execution_count": 14,
     "metadata": {},
     "output_type": "execute_result"
    }
   ],
   "source": [
    "#check data again\n",
    "df1.shape"
   ]
  },
  {
   "cell_type": "code",
   "execution_count": 15,
   "metadata": {
    "colab": {
     "base_uri": "https://localhost:8080/"
    },
    "executionInfo": {
     "elapsed": 49,
     "status": "ok",
     "timestamp": 1648693250766,
     "user": {
      "displayName": "Ann Tran",
      "userId": "15798122337385944061"
     },
     "user_tz": -420
    },
    "id": "r40a1O1aX6Ln",
    "outputId": "52db2fcb-6b2c-40d8-dffe-b745da7be0bc"
   },
   "outputs": [
    {
     "name": "stdout",
     "output_type": "stream",
     "text": [
      "<class 'pandas.core.frame.DataFrame'>\n",
      "Int64Index: 100000 entries, 0 to 99999\n",
      "Data columns (total 19 columns):\n",
      " #   Column                     Non-Null Count   Dtype  \n",
      "---  ------                     --------------   -----  \n",
      " 0   LoanID                     100000 non-null  object \n",
      " 1   CustomerID                 100000 non-null  object \n",
      " 2   LoanStatus                 100000 non-null  object \n",
      " 3   CurrentLoanAmount          100000 non-null  float64\n",
      " 4   Term                       100000 non-null  object \n",
      " 5   CreditScore                80846 non-null   float64\n",
      " 6   AnnualIncome               80846 non-null   float64\n",
      " 7   Yearsincurrentjob          95778 non-null   object \n",
      " 8   HomeOwnership              100000 non-null  object \n",
      " 9   Purpose                    100000 non-null  object \n",
      " 10  MonthlyDebt                100000 non-null  float64\n",
      " 11  YearsofCreditHistory       100000 non-null  float64\n",
      " 12  Monthssincelastdelinquent  46859 non-null   float64\n",
      " 13  NumberofOpenAccounts       100000 non-null  float64\n",
      " 14  NumberofCreditProblems     100000 non-null  float64\n",
      " 15  CurrentCreditBalance       100000 non-null  float64\n",
      " 16  MaximumOpenCredit          99998 non-null   float64\n",
      " 17  Bankruptcies               99796 non-null   float64\n",
      " 18  TaxLiens                   99990 non-null   float64\n",
      "dtypes: float64(12), object(7)\n",
      "memory usage: 15.3+ MB\n"
     ]
    }
   ],
   "source": [
    "#check data info again\n",
    "df1.info()"
   ]
  },
  {
   "cell_type": "code",
   "execution_count": 16,
   "metadata": {
    "colab": {
     "base_uri": "https://localhost:8080/"
    },
    "executionInfo": {
     "elapsed": 621,
     "status": "ok",
     "timestamp": 1648693251343,
     "user": {
      "displayName": "Ann Tran",
      "userId": "15798122337385944061"
     },
     "user_tz": -420
    },
    "id": "BExnFlqyYoeA",
    "outputId": "5d74cda8-7377-49ae-8921-aff4b7bb6e1b"
   },
   "outputs": [
    {
     "data": {
      "text/plain": [
       "LoanID                           0\n",
       "CustomerID                       0\n",
       "LoanStatus                       0\n",
       "CurrentLoanAmount                0\n",
       "Term                             0\n",
       "CreditScore                  19154\n",
       "AnnualIncome                 19154\n",
       "Yearsincurrentjob             4222\n",
       "HomeOwnership                    0\n",
       "Purpose                          0\n",
       "MonthlyDebt                      0\n",
       "YearsofCreditHistory             0\n",
       "Monthssincelastdelinquent    53141\n",
       "NumberofOpenAccounts             0\n",
       "NumberofCreditProblems           0\n",
       "CurrentCreditBalance             0\n",
       "MaximumOpenCredit                2\n",
       "Bankruptcies                   204\n",
       "TaxLiens                        10\n",
       "dtype: int64"
      ]
     },
     "execution_count": 16,
     "metadata": {},
     "output_type": "execute_result"
    }
   ],
   "source": [
    "#check null info again\n",
    "df1.isnull().sum()"
   ]
  },
  {
   "cell_type": "code",
   "execution_count": 17,
   "metadata": {
    "colab": {
     "base_uri": "https://localhost:8080/"
    },
    "executionInfo": {
     "elapsed": 59,
     "status": "ok",
     "timestamp": 1648693251344,
     "user": {
      "displayName": "Ann Tran",
      "userId": "15798122337385944061"
     },
     "user_tz": -420
    },
    "id": "wq1XNd_QZWqV",
    "outputId": "191c408c-aeab-4757-bceb-d39fe0ebfc19"
   },
   "outputs": [
    {
     "name": "stdout",
     "output_type": "stream",
     "text": [
      "10215\n"
     ]
    }
   ],
   "source": [
    "#check duplicated info\n",
    "df1_dup=df1.duplicated()\n",
    "print( df1_dup.sum())"
   ]
  },
  {
   "cell_type": "code",
   "execution_count": 18,
   "metadata": {
    "executionInfo": {
     "elapsed": 53,
     "status": "ok",
     "timestamp": 1648693251345,
     "user": {
      "displayName": "Ann Tran",
      "userId": "15798122337385944061"
     },
     "user_tz": -420
    },
    "id": "9PGzExMnaF7e"
   },
   "outputs": [],
   "source": [
    "#drop them\n",
    "df1.drop_duplicates(inplace = True)"
   ]
  },
  {
   "cell_type": "code",
   "execution_count": 19,
   "metadata": {
    "colab": {
     "base_uri": "https://localhost:8080/"
    },
    "executionInfo": {
     "elapsed": 1148,
     "status": "ok",
     "timestamp": 1648693252441,
     "user": {
      "displayName": "Ann Tran",
      "userId": "15798122337385944061"
     },
     "user_tz": -420
    },
    "id": "tuyFZshObRZP",
    "outputId": "52af8f90-e58e-40cb-e64e-e61c62d8e2c1"
   },
   "outputs": [
    {
     "name": "stdout",
     "output_type": "stream",
     "text": [
      "0\n"
     ]
    },
    {
     "data": {
      "text/plain": [
       "(89785, 19)"
      ]
     },
     "execution_count": 19,
     "metadata": {},
     "output_type": "execute_result"
    }
   ],
   "source": [
    "#check dupe,shape again\n",
    "df1_dup=df1.duplicated()\n",
    "print( df1_dup.sum())\n",
    "df1.shape"
   ]
  },
  {
   "cell_type": "code",
   "execution_count": 20,
   "metadata": {
    "colab": {
     "base_uri": "https://localhost:8080/"
    },
    "executionInfo": {
     "elapsed": 42,
     "status": "ok",
     "timestamp": 1648693252442,
     "user": {
      "displayName": "Ann Tran",
      "userId": "15798122337385944061"
     },
     "user_tz": -420
    },
    "id": "A_d4tlVVZw9i",
    "outputId": "ad75cd9c-79b1-4970-fe23-21a318c982e9"
   },
   "outputs": [
    {
     "data": {
      "text/plain": [
       "387f3adf-a02d-4063-be16-6c9a2b4cf425    2\n",
       "1373bfdf-ae6d-4fa5-b3e9-73ba60b7868e    2\n",
       "c5eaf6a1-25e9-42b0-a464-928df0a2d47c    2\n",
       "e1653c4a-9b73-40ba-8c0b-fd206feb5035    2\n",
       "b9acffa9-b8fe-4fce-8c0b-8b91af3b5b1f    2\n",
       "                                       ..\n",
       "ab57b61a-0157-4a33-b09f-534ec5f14b5e    1\n",
       "fa53a0d7-5d41-41e1-9b30-8e523d1c653c    1\n",
       "5594581e-f378-4472-a8d8-e53a84b7498a    1\n",
       "a30c629f-2ea8-43b3-adbe-39bac0f69da2    1\n",
       "c63916c6-6d46-47a9-949a-51d09af4414f    1\n",
       "Name: LoanID, Length: 81999, dtype: int64"
      ]
     },
     "execution_count": 20,
     "metadata": {},
     "output_type": "execute_result"
    }
   ],
   "source": [
    "\n",
    "df1['LoanID'].value_counts().sort_values(ascending = False )"
   ]
  },
  {
   "cell_type": "code",
   "execution_count": 21,
   "metadata": {
    "colab": {
     "base_uri": "https://localhost:8080/",
     "height": 280
    },
    "executionInfo": {
     "elapsed": 40,
     "status": "ok",
     "timestamp": 1648693252443,
     "user": {
      "displayName": "Ann Tran",
      "userId": "15798122337385944061"
     },
     "user_tz": -420
    },
    "id": "SFNjBcngc3Ky",
    "outputId": "63e750b3-015f-4a49-ff11-d1d7437f17b8"
   },
   "outputs": [
    {
     "data": {
      "text/html": [
       "\n",
       "  <div id=\"df-99670ece-2710-4d7a-9dcc-039b151c4678\">\n",
       "    <div class=\"colab-df-container\">\n",
       "      <div>\n",
       "<style scoped>\n",
       "    .dataframe tbody tr th:only-of-type {\n",
       "        vertical-align: middle;\n",
       "    }\n",
       "\n",
       "    .dataframe tbody tr th {\n",
       "        vertical-align: top;\n",
       "    }\n",
       "\n",
       "    .dataframe thead th {\n",
       "        text-align: right;\n",
       "    }\n",
       "</style>\n",
       "<table border=\"1\" class=\"dataframe\">\n",
       "  <thead>\n",
       "    <tr style=\"text-align: right;\">\n",
       "      <th></th>\n",
       "      <th>LoanID</th>\n",
       "      <th>CustomerID</th>\n",
       "      <th>LoanStatus</th>\n",
       "      <th>CurrentLoanAmount</th>\n",
       "      <th>Term</th>\n",
       "      <th>CreditScore</th>\n",
       "      <th>AnnualIncome</th>\n",
       "      <th>Yearsincurrentjob</th>\n",
       "      <th>HomeOwnership</th>\n",
       "      <th>Purpose</th>\n",
       "      <th>MonthlyDebt</th>\n",
       "      <th>YearsofCreditHistory</th>\n",
       "      <th>Monthssincelastdelinquent</th>\n",
       "      <th>NumberofOpenAccounts</th>\n",
       "      <th>NumberofCreditProblems</th>\n",
       "      <th>CurrentCreditBalance</th>\n",
       "      <th>MaximumOpenCredit</th>\n",
       "      <th>Bankruptcies</th>\n",
       "      <th>TaxLiens</th>\n",
       "    </tr>\n",
       "  </thead>\n",
       "  <tbody>\n",
       "    <tr>\n",
       "      <th>65477</th>\n",
       "      <td>c5eaf6a1-25e9-42b0-a464-928df0a2d47c</td>\n",
       "      <td>99d7f87d-4b43-4900-abfe-d4c64a0f2247</td>\n",
       "      <td>Fully Paid</td>\n",
       "      <td>155166.0</td>\n",
       "      <td>Short Term</td>\n",
       "      <td>712.0</td>\n",
       "      <td>574275.0</td>\n",
       "      <td>NaN</td>\n",
       "      <td>Own Home</td>\n",
       "      <td>Debt Consolidation</td>\n",
       "      <td>3771.12</td>\n",
       "      <td>25.5</td>\n",
       "      <td>33.0</td>\n",
       "      <td>7.0</td>\n",
       "      <td>0.0</td>\n",
       "      <td>107217.0</td>\n",
       "      <td>226138.0</td>\n",
       "      <td>0.0</td>\n",
       "      <td>0.0</td>\n",
       "    </tr>\n",
       "    <tr>\n",
       "      <th>93425</th>\n",
       "      <td>c5eaf6a1-25e9-42b0-a464-928df0a2d47c</td>\n",
       "      <td>99d7f87d-4b43-4900-abfe-d4c64a0f2247</td>\n",
       "      <td>Fully Paid</td>\n",
       "      <td>99999999.0</td>\n",
       "      <td>Short Term</td>\n",
       "      <td>712.0</td>\n",
       "      <td>574275.0</td>\n",
       "      <td>NaN</td>\n",
       "      <td>Own Home</td>\n",
       "      <td>Debt Consolidation</td>\n",
       "      <td>3771.12</td>\n",
       "      <td>25.5</td>\n",
       "      <td>33.0</td>\n",
       "      <td>7.0</td>\n",
       "      <td>0.0</td>\n",
       "      <td>107217.0</td>\n",
       "      <td>226138.0</td>\n",
       "      <td>0.0</td>\n",
       "      <td>0.0</td>\n",
       "    </tr>\n",
       "  </tbody>\n",
       "</table>\n",
       "</div>\n",
       "      <button class=\"colab-df-convert\" onclick=\"convertToInteractive('df-99670ece-2710-4d7a-9dcc-039b151c4678')\"\n",
       "              title=\"Convert this dataframe to an interactive table.\"\n",
       "              style=\"display:none;\">\n",
       "        \n",
       "  <svg xmlns=\"http://www.w3.org/2000/svg\" height=\"24px\"viewBox=\"0 0 24 24\"\n",
       "       width=\"24px\">\n",
       "    <path d=\"M0 0h24v24H0V0z\" fill=\"none\"/>\n",
       "    <path d=\"M18.56 5.44l.94 2.06.94-2.06 2.06-.94-2.06-.94-.94-2.06-.94 2.06-2.06.94zm-11 1L8.5 8.5l.94-2.06 2.06-.94-2.06-.94L8.5 2.5l-.94 2.06-2.06.94zm10 10l.94 2.06.94-2.06 2.06-.94-2.06-.94-.94-2.06-.94 2.06-2.06.94z\"/><path d=\"M17.41 7.96l-1.37-1.37c-.4-.4-.92-.59-1.43-.59-.52 0-1.04.2-1.43.59L10.3 9.45l-7.72 7.72c-.78.78-.78 2.05 0 2.83L4 21.41c.39.39.9.59 1.41.59.51 0 1.02-.2 1.41-.59l7.78-7.78 2.81-2.81c.8-.78.8-2.07 0-2.86zM5.41 20L4 18.59l7.72-7.72 1.47 1.35L5.41 20z\"/>\n",
       "  </svg>\n",
       "      </button>\n",
       "      \n",
       "  <style>\n",
       "    .colab-df-container {\n",
       "      display:flex;\n",
       "      flex-wrap:wrap;\n",
       "      gap: 12px;\n",
       "    }\n",
       "\n",
       "    .colab-df-convert {\n",
       "      background-color: #E8F0FE;\n",
       "      border: none;\n",
       "      border-radius: 50%;\n",
       "      cursor: pointer;\n",
       "      display: none;\n",
       "      fill: #1967D2;\n",
       "      height: 32px;\n",
       "      padding: 0 0 0 0;\n",
       "      width: 32px;\n",
       "    }\n",
       "\n",
       "    .colab-df-convert:hover {\n",
       "      background-color: #E2EBFA;\n",
       "      box-shadow: 0px 1px 2px rgba(60, 64, 67, 0.3), 0px 1px 3px 1px rgba(60, 64, 67, 0.15);\n",
       "      fill: #174EA6;\n",
       "    }\n",
       "\n",
       "    [theme=dark] .colab-df-convert {\n",
       "      background-color: #3B4455;\n",
       "      fill: #D2E3FC;\n",
       "    }\n",
       "\n",
       "    [theme=dark] .colab-df-convert:hover {\n",
       "      background-color: #434B5C;\n",
       "      box-shadow: 0px 1px 3px 1px rgba(0, 0, 0, 0.15);\n",
       "      filter: drop-shadow(0px 1px 2px rgba(0, 0, 0, 0.3));\n",
       "      fill: #FFFFFF;\n",
       "    }\n",
       "  </style>\n",
       "\n",
       "      <script>\n",
       "        const buttonEl =\n",
       "          document.querySelector('#df-99670ece-2710-4d7a-9dcc-039b151c4678 button.colab-df-convert');\n",
       "        buttonEl.style.display =\n",
       "          google.colab.kernel.accessAllowed ? 'block' : 'none';\n",
       "\n",
       "        async function convertToInteractive(key) {\n",
       "          const element = document.querySelector('#df-99670ece-2710-4d7a-9dcc-039b151c4678');\n",
       "          const dataTable =\n",
       "            await google.colab.kernel.invokeFunction('convertToInteractive',\n",
       "                                                     [key], {});\n",
       "          if (!dataTable) return;\n",
       "\n",
       "          const docLinkHtml = 'Like what you see? Visit the ' +\n",
       "            '<a target=\"_blank\" href=https://colab.research.google.com/notebooks/data_table.ipynb>data table notebook</a>'\n",
       "            + ' to learn more about interactive tables.';\n",
       "          element.innerHTML = '';\n",
       "          dataTable['output_type'] = 'display_data';\n",
       "          await google.colab.output.renderOutput(dataTable, element);\n",
       "          const docLink = document.createElement('div');\n",
       "          docLink.innerHTML = docLinkHtml;\n",
       "          element.appendChild(docLink);\n",
       "        }\n",
       "      </script>\n",
       "    </div>\n",
       "  </div>\n",
       "  "
      ],
      "text/plain": [
       "                                     LoanID  \\\n",
       "65477  c5eaf6a1-25e9-42b0-a464-928df0a2d47c   \n",
       "93425  c5eaf6a1-25e9-42b0-a464-928df0a2d47c   \n",
       "\n",
       "                                 CustomerID  LoanStatus  CurrentLoanAmount  \\\n",
       "65477  99d7f87d-4b43-4900-abfe-d4c64a0f2247  Fully Paid           155166.0   \n",
       "93425  99d7f87d-4b43-4900-abfe-d4c64a0f2247  Fully Paid         99999999.0   \n",
       "\n",
       "             Term  CreditScore  AnnualIncome Yearsincurrentjob HomeOwnership  \\\n",
       "65477  Short Term        712.0      574275.0               NaN      Own Home   \n",
       "93425  Short Term        712.0      574275.0               NaN      Own Home   \n",
       "\n",
       "                  Purpose  MonthlyDebt  YearsofCreditHistory  \\\n",
       "65477  Debt Consolidation      3771.12                  25.5   \n",
       "93425  Debt Consolidation      3771.12                  25.5   \n",
       "\n",
       "       Monthssincelastdelinquent  NumberofOpenAccounts  \\\n",
       "65477                       33.0                   7.0   \n",
       "93425                       33.0                   7.0   \n",
       "\n",
       "       NumberofCreditProblems  CurrentCreditBalance  MaximumOpenCredit  \\\n",
       "65477                     0.0              107217.0           226138.0   \n",
       "93425                     0.0              107217.0           226138.0   \n",
       "\n",
       "       Bankruptcies  TaxLiens  \n",
       "65477           0.0       0.0  \n",
       "93425           0.0       0.0  "
      ]
     },
     "execution_count": 21,
     "metadata": {},
     "output_type": "execute_result"
    }
   ],
   "source": [
    "#check one of those dup info\n",
    "df1[df1['LoanID'] == 'c5eaf6a1-25e9-42b0-a464-928df0a2d47c']"
   ]
  },
  {
   "cell_type": "code",
   "execution_count": 22,
   "metadata": {
    "executionInfo": {
     "elapsed": 39,
     "status": "ok",
     "timestamp": 1648693252444,
     "user": {
      "displayName": "Ann Tran",
      "userId": "15798122337385944061"
     },
     "user_tz": -420
    },
    "id": "Xg8uQ9yzePVE"
   },
   "outputs": [],
   "source": [
    "#there is some kind of mistake or typo in currentloanamount of those dup info, which show significant info of 99,999,999. let's drop it\n",
    "df1=df1[~(df1..duplicated()&(df1['CurrentLoanAmount']==99999999.0))]"
   ]
  },
  {
   "cell_type": "code",
   "execution_count": 23,
   "metadata": {
    "colab": {
     "base_uri": "https://localhost:8080/"
    },
    "executionInfo": {
     "elapsed": 40,
     "status": "ok",
     "timestamp": 1648693252445,
     "user": {
      "displayName": "Ann Tran",
      "userId": "15798122337385944061"
     },
     "user_tz": -420
    },
    "id": "QMiqhxo0f1lo",
    "outputId": "6f7b5610-efee-416b-a91d-1a51d9c3dbb1"
   },
   "outputs": [
    {
     "name": "stdout",
     "output_type": "stream",
     "text": [
      "5990\n"
     ]
    },
    {
     "data": {
      "text/plain": [
       "(87989, 19)"
      ]
     },
     "execution_count": 23,
     "metadata": {},
     "output_type": "execute_result"
    }
   ],
   "source": [
    "#check dupe info again\n",
    "df1_dup=df1.LoanID.duplicated()\n",
    "print( df1_dup.sum())\n",
    "df1.shape"
   ]
  },
  {
   "cell_type": "code",
   "execution_count": 24,
   "metadata": {
    "colab": {
     "base_uri": "https://localhost:8080/"
    },
    "executionInfo": {
     "elapsed": 37,
     "status": "ok",
     "timestamp": 1648693252446,
     "user": {
      "displayName": "Ann Tran",
      "userId": "15798122337385944061"
     },
     "user_tz": -420
    },
    "id": "zLgdvCLpgNGA",
    "outputId": "fe3b4300-1a27-4407-b5eb-272900ab7f9c"
   },
   "outputs": [
    {
     "data": {
      "text/plain": [
       "1a8d05e1-83f1-4efc-9ff6-0101578b1046    2\n",
       "1eb5f97f-0df1-4582-ae62-500ff3249e8c    2\n",
       "e95443e7-8c16-4d8c-aa32-4aeb88e83b15    2\n",
       "da998ea6-d10b-43ef-9cf5-a59e97cdd2e6    2\n",
       "a5937456-7f51-4557-8b17-3e8c2bb4e517    2\n",
       "                                       ..\n",
       "98e1fff9-6575-44fc-bd93-82289758e466    1\n",
       "8eb43575-f895-4eda-bba0-0a0e55b8bcab    1\n",
       "268f14e0-d41c-4dc0-876f-36b339f3a794    1\n",
       "17017095-efe3-46c2-8d3c-c6a368dfc5b9    1\n",
       "c63916c6-6d46-47a9-949a-51d09af4414f    1\n",
       "Name: LoanID, Length: 81999, dtype: int64"
      ]
     },
     "execution_count": 24,
     "metadata": {},
     "output_type": "execute_result"
    }
   ],
   "source": [
    "df1['LoanID'].value_counts().sort_values(ascending = False )"
   ]
  },
  {
   "cell_type": "code",
   "execution_count": 25,
   "metadata": {
    "colab": {
     "base_uri": "https://localhost:8080/",
     "height": 197
    },
    "executionInfo": {
     "elapsed": 33,
     "status": "ok",
     "timestamp": 1648693252447,
     "user": {
      "displayName": "Ann Tran",
      "userId": "15798122337385944061"
     },
     "user_tz": -420
    },
    "id": "dKjTcGUuibch",
    "outputId": "4e04fd46-b932-4fc2-f2ae-8dc544a57615"
   },
   "outputs": [
    {
     "data": {
      "text/html": [
       "\n",
       "  <div id=\"df-f5be8c39-430d-458c-bf41-5813c753be8c\">\n",
       "    <div class=\"colab-df-container\">\n",
       "      <div>\n",
       "<style scoped>\n",
       "    .dataframe tbody tr th:only-of-type {\n",
       "        vertical-align: middle;\n",
       "    }\n",
       "\n",
       "    .dataframe tbody tr th {\n",
       "        vertical-align: top;\n",
       "    }\n",
       "\n",
       "    .dataframe thead th {\n",
       "        text-align: right;\n",
       "    }\n",
       "</style>\n",
       "<table border=\"1\" class=\"dataframe\">\n",
       "  <thead>\n",
       "    <tr style=\"text-align: right;\">\n",
       "      <th></th>\n",
       "      <th>LoanID</th>\n",
       "      <th>CustomerID</th>\n",
       "      <th>LoanStatus</th>\n",
       "      <th>CurrentLoanAmount</th>\n",
       "      <th>Term</th>\n",
       "      <th>CreditScore</th>\n",
       "      <th>AnnualIncome</th>\n",
       "      <th>Yearsincurrentjob</th>\n",
       "      <th>HomeOwnership</th>\n",
       "      <th>Purpose</th>\n",
       "      <th>MonthlyDebt</th>\n",
       "      <th>YearsofCreditHistory</th>\n",
       "      <th>Monthssincelastdelinquent</th>\n",
       "      <th>NumberofOpenAccounts</th>\n",
       "      <th>NumberofCreditProblems</th>\n",
       "      <th>CurrentCreditBalance</th>\n",
       "      <th>MaximumOpenCredit</th>\n",
       "      <th>Bankruptcies</th>\n",
       "      <th>TaxLiens</th>\n",
       "    </tr>\n",
       "  </thead>\n",
       "  <tbody>\n",
       "    <tr>\n",
       "      <th>65477</th>\n",
       "      <td>c5eaf6a1-25e9-42b0-a464-928df0a2d47c</td>\n",
       "      <td>99d7f87d-4b43-4900-abfe-d4c64a0f2247</td>\n",
       "      <td>Fully Paid</td>\n",
       "      <td>155166.0</td>\n",
       "      <td>Short Term</td>\n",
       "      <td>712.0</td>\n",
       "      <td>574275.0</td>\n",
       "      <td>NaN</td>\n",
       "      <td>Own Home</td>\n",
       "      <td>Debt Consolidation</td>\n",
       "      <td>3771.12</td>\n",
       "      <td>25.5</td>\n",
       "      <td>33.0</td>\n",
       "      <td>7.0</td>\n",
       "      <td>0.0</td>\n",
       "      <td>107217.0</td>\n",
       "      <td>226138.0</td>\n",
       "      <td>0.0</td>\n",
       "      <td>0.0</td>\n",
       "    </tr>\n",
       "  </tbody>\n",
       "</table>\n",
       "</div>\n",
       "      <button class=\"colab-df-convert\" onclick=\"convertToInteractive('df-f5be8c39-430d-458c-bf41-5813c753be8c')\"\n",
       "              title=\"Convert this dataframe to an interactive table.\"\n",
       "              style=\"display:none;\">\n",
       "        \n",
       "  <svg xmlns=\"http://www.w3.org/2000/svg\" height=\"24px\"viewBox=\"0 0 24 24\"\n",
       "       width=\"24px\">\n",
       "    <path d=\"M0 0h24v24H0V0z\" fill=\"none\"/>\n",
       "    <path d=\"M18.56 5.44l.94 2.06.94-2.06 2.06-.94-2.06-.94-.94-2.06-.94 2.06-2.06.94zm-11 1L8.5 8.5l.94-2.06 2.06-.94-2.06-.94L8.5 2.5l-.94 2.06-2.06.94zm10 10l.94 2.06.94-2.06 2.06-.94-2.06-.94-.94-2.06-.94 2.06-2.06.94z\"/><path d=\"M17.41 7.96l-1.37-1.37c-.4-.4-.92-.59-1.43-.59-.52 0-1.04.2-1.43.59L10.3 9.45l-7.72 7.72c-.78.78-.78 2.05 0 2.83L4 21.41c.39.39.9.59 1.41.59.51 0 1.02-.2 1.41-.59l7.78-7.78 2.81-2.81c.8-.78.8-2.07 0-2.86zM5.41 20L4 18.59l7.72-7.72 1.47 1.35L5.41 20z\"/>\n",
       "  </svg>\n",
       "      </button>\n",
       "      \n",
       "  <style>\n",
       "    .colab-df-container {\n",
       "      display:flex;\n",
       "      flex-wrap:wrap;\n",
       "      gap: 12px;\n",
       "    }\n",
       "\n",
       "    .colab-df-convert {\n",
       "      background-color: #E8F0FE;\n",
       "      border: none;\n",
       "      border-radius: 50%;\n",
       "      cursor: pointer;\n",
       "      display: none;\n",
       "      fill: #1967D2;\n",
       "      height: 32px;\n",
       "      padding: 0 0 0 0;\n",
       "      width: 32px;\n",
       "    }\n",
       "\n",
       "    .colab-df-convert:hover {\n",
       "      background-color: #E2EBFA;\n",
       "      box-shadow: 0px 1px 2px rgba(60, 64, 67, 0.3), 0px 1px 3px 1px rgba(60, 64, 67, 0.15);\n",
       "      fill: #174EA6;\n",
       "    }\n",
       "\n",
       "    [theme=dark] .colab-df-convert {\n",
       "      background-color: #3B4455;\n",
       "      fill: #D2E3FC;\n",
       "    }\n",
       "\n",
       "    [theme=dark] .colab-df-convert:hover {\n",
       "      background-color: #434B5C;\n",
       "      box-shadow: 0px 1px 3px 1px rgba(0, 0, 0, 0.15);\n",
       "      filter: drop-shadow(0px 1px 2px rgba(0, 0, 0, 0.3));\n",
       "      fill: #FFFFFF;\n",
       "    }\n",
       "  </style>\n",
       "\n",
       "      <script>\n",
       "        const buttonEl =\n",
       "          document.querySelector('#df-f5be8c39-430d-458c-bf41-5813c753be8c button.colab-df-convert');\n",
       "        buttonEl.style.display =\n",
       "          google.colab.kernel.accessAllowed ? 'block' : 'none';\n",
       "\n",
       "        async function convertToInteractive(key) {\n",
       "          const element = document.querySelector('#df-f5be8c39-430d-458c-bf41-5813c753be8c');\n",
       "          const dataTable =\n",
       "            await google.colab.kernel.invokeFunction('convertToInteractive',\n",
       "                                                     [key], {});\n",
       "          if (!dataTable) return;\n",
       "\n",
       "          const docLinkHtml = 'Like what you see? Visit the ' +\n",
       "            '<a target=\"_blank\" href=https://colab.research.google.com/notebooks/data_table.ipynb>data table notebook</a>'\n",
       "            + ' to learn more about interactive tables.';\n",
       "          element.innerHTML = '';\n",
       "          dataTable['output_type'] = 'display_data';\n",
       "          await google.colab.output.renderOutput(dataTable, element);\n",
       "          const docLink = document.createElement('div');\n",
       "          docLink.innerHTML = docLinkHtml;\n",
       "          element.appendChild(docLink);\n",
       "        }\n",
       "      </script>\n",
       "    </div>\n",
       "  </div>\n",
       "  "
      ],
      "text/plain": [
       "                                     LoanID  \\\n",
       "65477  c5eaf6a1-25e9-42b0-a464-928df0a2d47c   \n",
       "\n",
       "                                 CustomerID  LoanStatus  CurrentLoanAmount  \\\n",
       "65477  99d7f87d-4b43-4900-abfe-d4c64a0f2247  Fully Paid           155166.0   \n",
       "\n",
       "             Term  CreditScore  AnnualIncome Yearsincurrentjob HomeOwnership  \\\n",
       "65477  Short Term        712.0      574275.0               NaN      Own Home   \n",
       "\n",
       "                  Purpose  MonthlyDebt  YearsofCreditHistory  \\\n",
       "65477  Debt Consolidation      3771.12                  25.5   \n",
       "\n",
       "       Monthssincelastdelinquent  NumberofOpenAccounts  \\\n",
       "65477                       33.0                   7.0   \n",
       "\n",
       "       NumberofCreditProblems  CurrentCreditBalance  MaximumOpenCredit  \\\n",
       "65477                     0.0              107217.0           226138.0   \n",
       "\n",
       "       Bankruptcies  TaxLiens  \n",
       "65477           0.0       0.0  "
      ]
     },
     "execution_count": 25,
     "metadata": {},
     "output_type": "execute_result"
    }
   ],
   "source": [
    "\n",
    "df1[df1['LoanID'] == 'c5eaf6a1-25e9-42b0-a464-928df0a2d47c']"
   ]
  },
  {
   "cell_type": "code",
   "execution_count": 26,
   "metadata": {
    "colab": {
     "base_uri": "https://localhost:8080/"
    },
    "executionInfo": {
     "elapsed": 33,
     "status": "ok",
     "timestamp": 1648693252448,
     "user": {
      "displayName": "Ann Tran",
      "userId": "15798122337385944061"
     },
     "user_tz": -420
    },
    "id": "b3B_7LbUjFfM",
    "outputId": "a9eb4608-1ddf-43fb-88cf-af26ba94e955"
   },
   "outputs": [
    {
     "data": {
      "text/plain": [
       "array(['Home Improvements', 'Debt Consolidation', 'Buy House', 'other',\n",
       "       'Business Loan', 'Buy a Car', 'major_purchase', 'Take a Trip',\n",
       "       'Other', 'small_business', 'Medical Bills', 'wedding', 'vacation',\n",
       "       'Educational Expenses', 'moving', 'renewable_energy'], dtype=object)"
      ]
     },
     "execution_count": 26,
     "metadata": {},
     "output_type": "execute_result"
    }
   ],
   "source": [
    "\n",
    "df1.Purpose.unique()"
   ]
  },
  {
   "cell_type": "code",
   "execution_count": 27,
   "metadata": {
    "colab": {
     "base_uri": "https://localhost:8080/"
    },
    "executionInfo": {
     "elapsed": 27,
     "status": "ok",
     "timestamp": 1648693252448,
     "user": {
      "displayName": "Ann Tran",
      "userId": "15798122337385944061"
     },
     "user_tz": -420
    },
    "id": "oZwWzmiAjvDE",
    "outputId": "2a5f0ddf-52a1-4601-9059-8330f7b000b8"
   },
   "outputs": [
    {
     "data": {
      "text/plain": [
       "Debt Consolidation      69482\n",
       "Home Improvements        5148\n",
       "other                    5086\n",
       "Other                    2806\n",
       "Business Loan            1335\n",
       "Buy a Car                1146\n",
       "Medical Bills             955\n",
       "Buy House                 564\n",
       "Take a Trip               476\n",
       "major_purchase            323\n",
       "small_business            251\n",
       "moving                    129\n",
       "wedding                   102\n",
       "Educational Expenses       91\n",
       "vacation                   87\n",
       "renewable_energy            8\n",
       "Name: Purpose, dtype: int64"
      ]
     },
     "execution_count": 27,
     "metadata": {},
     "output_type": "execute_result"
    }
   ],
   "source": [
    "df1.Purpose.value_counts()"
   ]
  },
  {
   "cell_type": "code",
   "execution_count": 28,
   "metadata": {
    "executionInfo": {
     "elapsed": 25,
     "status": "ok",
     "timestamp": 1648693252449,
     "user": {
      "displayName": "Ann Tran",
      "userId": "15798122337385944061"
     },
     "user_tz": -420
    },
    "id": "XkTDc-aljXeV"
   },
   "outputs": [],
   "source": [
    "#other show 2 time as typo, let's fix\n",
    "df1.Purpose=df1.Purpose.str.replace('other','Other')"
   ]
  },
  {
   "cell_type": "code",
   "execution_count": 29,
   "metadata": {
    "colab": {
     "base_uri": "https://localhost:8080/"
    },
    "executionInfo": {
     "elapsed": 26,
     "status": "ok",
     "timestamp": 1648693252450,
     "user": {
      "displayName": "Ann Tran",
      "userId": "15798122337385944061"
     },
     "user_tz": -420
    },
    "id": "Ea8TylbWj_uI",
    "outputId": "55a8c630-7988-413f-c3fe-890df5ccc06d"
   },
   "outputs": [
    {
     "data": {
      "text/plain": [
       "Debt Consolidation      69482\n",
       "Other                    7892\n",
       "Home Improvements        5148\n",
       "Business Loan            1335\n",
       "Buy a Car                1146\n",
       "Medical Bills             955\n",
       "Buy House                 564\n",
       "Take a Trip               476\n",
       "major_purchase            323\n",
       "small_business            251\n",
       "moving                    129\n",
       "wedding                   102\n",
       "Educational Expenses       91\n",
       "vacation                   87\n",
       "renewable_energy            8\n",
       "Name: Purpose, dtype: int64"
      ]
     },
     "execution_count": 29,
     "metadata": {},
     "output_type": "execute_result"
    }
   ],
   "source": [
    "df1.Purpose.value_counts()"
   ]
  },
  {
   "cell_type": "code",
   "execution_count": 268,
   "metadata": {
    "colab": {
     "base_uri": "https://localhost:8080/"
    },
    "executionInfo": {
     "elapsed": 322,
     "status": "ok",
     "timestamp": 1648718741570,
     "user": {
      "displayName": "Ann Tran",
      "userId": "15798122337385944061"
     },
     "user_tz": -420
    },
    "id": "MVeZyICfSutX",
    "outputId": "4320e248-8b7d-4472-a6a3-5cb8b07cbc47"
   },
   "outputs": [
    {
     "data": {
      "text/plain": [
       "Home Mortgage    42665\n",
       "Rent             36952\n",
       "Own Home          8007\n",
       "HaveMortgage       177\n",
       "Name: HomeOwnership, dtype: int64"
      ]
     },
     "execution_count": 268,
     "metadata": {},
     "output_type": "execute_result"
    }
   ],
   "source": [
    "df1.HomeOwnership.value_counts()"
   ]
  },
  {
   "cell_type": "code",
   "execution_count": 269,
   "metadata": {
    "executionInfo": {
     "elapsed": 344,
     "status": "ok",
     "timestamp": 1648718943143,
     "user": {
      "displayName": "Ann Tran",
      "userId": "15798122337385944061"
     },
     "user_tz": -420
    },
    "id": "HyY2MF_sS6ms"
   },
   "outputs": [],
   "source": [
    "#I think have morgage is  a mis typo from home morgage, let's fix\n",
    "df1.HomeOwnership=df1.HomeOwnership.str.replace('HaveMortgage','Home Mortgage')"
   ]
  },
  {
   "cell_type": "code",
   "execution_count": 270,
   "metadata": {
    "colab": {
     "base_uri": "https://localhost:8080/"
    },
    "executionInfo": {
     "elapsed": 533,
     "status": "ok",
     "timestamp": 1648718961673,
     "user": {
      "displayName": "Ann Tran",
      "userId": "15798122337385944061"
     },
     "user_tz": -420
    },
    "id": "8sk5ENdkTrxk",
    "outputId": "7266057b-9048-40b4-a765-cab42440a12b"
   },
   "outputs": [
    {
     "data": {
      "text/plain": [
       "Home Mortgage    42842\n",
       "Rent             36952\n",
       "Own Home          8007\n",
       "Name: HomeOwnership, dtype: int64"
      ]
     },
     "execution_count": 270,
     "metadata": {},
     "output_type": "execute_result"
    }
   ],
   "source": [
    "#check again\n",
    "df1.HomeOwnership.value_counts()"
   ]
  },
  {
   "cell_type": "code",
   "execution_count": 30,
   "metadata": {
    "colab": {
     "base_uri": "https://localhost:8080/"
    },
    "executionInfo": {
     "elapsed": 22,
     "status": "ok",
     "timestamp": 1648693252451,
     "user": {
      "displayName": "Ann Tran",
      "userId": "15798122337385944061"
     },
     "user_tz": -420
    },
    "id": "9ZbcKlohlU2_",
    "outputId": "0a8d52df-87bb-4c98-ee9d-13bef8b419d8"
   },
   "outputs": [
    {
     "data": {
      "text/plain": [
       "730.0"
      ]
     },
     "execution_count": 30,
     "metadata": {},
     "output_type": "execute_result"
    }
   ],
   "source": [
    "df1.CreditScore.median()"
   ]
  },
  {
   "cell_type": "code",
   "execution_count": 31,
   "metadata": {
    "colab": {
     "base_uri": "https://localhost:8080/",
     "height": 357
    },
    "executionInfo": {
     "elapsed": 3026,
     "status": "ok",
     "timestamp": 1648693255458,
     "user": {
      "displayName": "Ann Tran",
      "userId": "15798122337385944061"
     },
     "user_tz": -420
    },
    "id": "UBqB3NMKleDl",
    "outputId": "192495cd-3385-4101-838f-488228d6600e"
   },
   "outputs": [
    {
     "data": {
      "text/plain": [
       "<matplotlib.axes._subplots.AxesSubplot at 0x7fbf4f857d90>"
      ]
     },
     "execution_count": 31,
     "metadata": {},
     "output_type": "execute_result"
    },
    {
     "data": {
      "image/png": "[encoded data removed]",
      "text/plain": [
       "<Figure size 720x360 with 1 Axes>"
      ]
     },
     "metadata": {
      "needs_background": "light"
     },
     "output_type": "display_data"
    }
   ],
   "source": [
    "plt.figure(figsize=(10,5))\n",
    "sns.histplot(df1['CreditScore'], palette='Purples_r',log_scale=True)"
   ]
  },
  {
   "cell_type": "code",
   "execution_count": 32,
   "metadata": {
    "executionInfo": {
     "elapsed": 16,
     "status": "ok",
     "timestamp": 1648693255459,
     "user": {
      "displayName": "Ann Tran",
      "userId": "15798122337385944061"
     },
     "user_tz": -420
    },
    "id": "i0f7wF92osHJ"
   },
   "outputs": [],
   "source": [
    "#The data looks to be right-skewed , cant use mean in this case\n",
    "df1['CreditScore']=df1['CreditScore'].fillna(df1['CreditScore'].median())\n",
    "\n"
   ]
  },
  {
   "cell_type": "code",
   "execution_count": 33,
   "metadata": {
    "colab": {
     "base_uri": "https://localhost:8080/",
     "height": 357
    },
    "executionInfo": {
     "elapsed": 2027,
     "status": "ok",
     "timestamp": 1648693257473,
     "user": {
      "displayName": "Ann Tran",
      "userId": "15798122337385944061"
     },
     "user_tz": -420
    },
    "id": "cSiBwUq8r-GN",
    "outputId": "06f20b4d-da1b-4cd5-c0d7-3d88db1b34bd"
   },
   "outputs": [
    {
     "data": {
      "text/plain": [
       "<matplotlib.axes._subplots.AxesSubplot at 0x7fbf4f7b69d0>"
      ]
     },
     "execution_count": 33,
     "metadata": {},
     "output_type": "execute_result"
    },
    {
     "data": {
      "image/png": "[encoded data removed]",
      "text/plain": [
       "<Figure size 720x360 with 1 Axes>"
      ]
     },
     "metadata": {
      "needs_background": "light"
     },
     "output_type": "display_data"
    }
   ],
   "source": [
    "plt.figure(figsize=(10,5))\n",
    "sns.histplot(df1['AnnualIncome'], palette='Purples_r',log_scale=True)"
   ]
  },
  {
   "cell_type": "code",
   "execution_count": 34,
   "metadata": {
    "colab": {
     "base_uri": "https://localhost:8080/"
    },
    "executionInfo": {
     "elapsed": 48,
     "status": "ok",
     "timestamp": 1648693257475,
     "user": {
      "displayName": "Ann Tran",
      "userId": "15798122337385944061"
     },
     "user_tz": -420
    },
    "id": "SnsBVyaisopE",
    "outputId": "a0a85808-4205-416a-f8aa-8d85dcf7017f"
   },
   "outputs": [
    {
     "data": {
      "text/plain": [
       "1378276.559842169"
      ]
     },
     "execution_count": 34,
     "metadata": {},
     "output_type": "execute_result"
    }
   ],
   "source": [
    "#use mean here is ok\n",
    "df['AnnualIncome'].mean()"
   ]
  },
  {
   "cell_type": "code",
   "execution_count": 35,
   "metadata": {
    "executionInfo": {
     "elapsed": 41,
     "status": "ok",
     "timestamp": 1648693257477,
     "user": {
      "displayName": "Ann Tran",
      "userId": "15798122337385944061"
     },
     "user_tz": -420
    },
    "id": "D41jPTJOs-43"
   },
   "outputs": [],
   "source": [
    "df1['AnnualIncome']=df1['AnnualIncome'].fillna(df1['AnnualIncome'].mean())\n"
   ]
  },
  {
   "cell_type": "code",
   "execution_count": 36,
   "metadata": {
    "colab": {
     "base_uri": "https://localhost:8080/",
     "height": 353
    },
    "executionInfo": {
     "elapsed": 44,
     "status": "ok",
     "timestamp": 1648693257481,
     "user": {
      "displayName": "Ann Tran",
      "userId": "15798122337385944061"
     },
     "user_tz": -420
    },
    "id": "GgHazHhJtGfP",
    "outputId": "eea4c6bb-f9ef-4477-c8a0-d70486c98458"
   },
   "outputs": [
    {
     "data": {
      "text/plain": [
       "<matplotlib.axes._subplots.AxesSubplot at 0x7fbf4dfe9a50>"
      ]
     },
     "execution_count": 36,
     "metadata": {},
     "output_type": "execute_result"
    },
    {
     "data": {
      "image/png": "[encoded data removed]",
      "text/plain": [
       "<Figure size 720x360 with 1 Axes>"
      ]
     },
     "metadata": {
      "needs_background": "light"
     },
     "output_type": "display_data"
    }
   ],
   "source": [
    "plt.figure(figsize=(10,5))\n",
    "sns.countplot(df1['Yearsincurrentjob'], palette='Purples_r')\n"
   ]
  },
  {
   "cell_type": "code",
   "execution_count": 37,
   "metadata": {
    "executionInfo": {
     "elapsed": 31,
     "status": "ok",
     "timestamp": 1648693257484,
     "user": {
      "displayName": "Ann Tran",
      "userId": "15798122337385944061"
     },
     "user_tz": -420
    },
    "id": "LDa4iVObtpr-"
   },
   "outputs": [],
   "source": [
    "#fill nul with 10+years\n",
    "df1['Yearsincurrentjob']=df1['Yearsincurrentjob'].fillna('10+ years')"
   ]
  },
  {
   "cell_type": "code",
   "execution_count": 38,
   "metadata": {
    "colab": {
     "base_uri": "https://localhost:8080/",
     "height": 353
    },
    "executionInfo": {
     "elapsed": 1283,
     "status": "ok",
     "timestamp": 1648693258737,
     "user": {
      "displayName": "Ann Tran",
      "userId": "15798122337385944061"
     },
     "user_tz": -420
    },
    "id": "IHb4FexBuYCh",
    "outputId": "24daf318-e77b-48cf-b1a8-a04347a42903"
   },
   "outputs": [
    {
     "data": {
      "text/plain": [
       "<matplotlib.axes._subplots.AxesSubplot at 0x7fbf4dfdda10>"
      ]
     },
     "execution_count": 38,
     "metadata": {},
     "output_type": "execute_result"
    },
    {
     "data": {
      "image/png": "[encoded data removed]",
      "text/plain": [
       "<Figure size 720x360 with 1 Axes>"
      ]
     },
     "metadata": {
      "needs_background": "light"
     },
     "output_type": "display_data"
    }
   ],
   "source": [
    "plt.figure(figsize=(10,5))\n",
    "sns.histplot(df1['Monthssincelastdelinquent'], palette='Purples_r')"
   ]
  },
  {
   "cell_type": "code",
   "execution_count": 39,
   "metadata": {
    "executionInfo": {
     "elapsed": 116,
     "status": "ok",
     "timestamp": 1648693258739,
     "user": {
      "displayName": "Ann Tran",
      "userId": "15798122337385944061"
     },
     "user_tz": -420
    },
    "id": "SGR6puNxu1OT"
   },
   "outputs": [],
   "source": [
    "#since Monthssincelastdelinquent is the time from cus's latest bad payment so i belive we can put 0 in NaN info\n",
    "#as the number of null is 47456, cant drop it\n",
    "\n",
    "df1['Monthssincelastdelinquent']=df1['Monthssincelastdelinquent'].fillna(0)"
   ]
  },
  {
   "cell_type": "code",
   "execution_count": 40,
   "metadata": {
    "colab": {
     "base_uri": "https://localhost:8080/"
    },
    "executionInfo": {
     "elapsed": 116,
     "status": "ok",
     "timestamp": 1648693258740,
     "user": {
      "displayName": "Ann Tran",
      "userId": "15798122337385944061"
     },
     "user_tz": -420
    },
    "id": "nnsEBlkzvXy7",
    "outputId": "69128bad-574e-4ed3-e142-9048f1aa0ff0"
   },
   "outputs": [
    {
     "data": {
      "text/plain": [
       "LoanID                         0\n",
       "CustomerID                     0\n",
       "LoanStatus                     0\n",
       "CurrentLoanAmount              0\n",
       "Term                           0\n",
       "CreditScore                    0\n",
       "AnnualIncome                   0\n",
       "Yearsincurrentjob              0\n",
       "HomeOwnership                  0\n",
       "Purpose                        0\n",
       "MonthlyDebt                    0\n",
       "YearsofCreditHistory           0\n",
       "Monthssincelastdelinquent      0\n",
       "NumberofOpenAccounts           0\n",
       "NumberofCreditProblems         0\n",
       "CurrentCreditBalance           0\n",
       "MaximumOpenCredit              2\n",
       "Bankruptcies                 186\n",
       "TaxLiens                       9\n",
       "dtype: int64"
      ]
     },
     "execution_count": 40,
     "metadata": {},
     "output_type": "execute_result"
    }
   ],
   "source": [
    "df1.isnull().sum()"
   ]
  },
  {
   "cell_type": "code",
   "execution_count": 41,
   "metadata": {
    "executionInfo": {
     "elapsed": 112,
     "status": "ok",
     "timestamp": 1648693258740,
     "user": {
      "displayName": "Ann Tran",
      "userId": "15798122337385944061"
     },
     "user_tz": -420
    },
    "id": "EYjPXldUvbCm"
   },
   "outputs": [],
   "source": [
    "#let drop all other small null info\n",
    "df1=df1.dropna()"
   ]
  },
  {
   "cell_type": "code",
   "execution_count": 42,
   "metadata": {
    "colab": {
     "base_uri": "https://localhost:8080/"
    },
    "executionInfo": {
     "elapsed": 113,
     "status": "ok",
     "timestamp": 1648693258742,
     "user": {
      "displayName": "Ann Tran",
      "userId": "15798122337385944061"
     },
     "user_tz": -420
    },
    "id": "reh3nyC8vmaj",
    "outputId": "4184271c-d42f-499e-d179-37811c39cece"
   },
   "outputs": [
    {
     "data": {
      "text/plain": [
       "LoanID                       0\n",
       "CustomerID                   0\n",
       "LoanStatus                   0\n",
       "CurrentLoanAmount            0\n",
       "Term                         0\n",
       "CreditScore                  0\n",
       "AnnualIncome                 0\n",
       "Yearsincurrentjob            0\n",
       "HomeOwnership                0\n",
       "Purpose                      0\n",
       "MonthlyDebt                  0\n",
       "YearsofCreditHistory         0\n",
       "Monthssincelastdelinquent    0\n",
       "NumberofOpenAccounts         0\n",
       "NumberofCreditProblems       0\n",
       "CurrentCreditBalance         0\n",
       "MaximumOpenCredit            0\n",
       "Bankruptcies                 0\n",
       "TaxLiens                     0\n",
       "dtype: int64"
      ]
     },
     "execution_count": 42,
     "metadata": {},
     "output_type": "execute_result"
    }
   ],
   "source": [
    "df1.isnull().sum()"
   ]
  },
  {
   "cell_type": "code",
   "execution_count": 43,
   "metadata": {
    "colab": {
     "base_uri": "https://localhost:8080/"
    },
    "executionInfo": {
     "elapsed": 112,
     "status": "ok",
     "timestamp": 1648693258745,
     "user": {
      "displayName": "Ann Tran",
      "userId": "15798122337385944061"
     },
     "user_tz": -420
    },
    "id": "oOJoBhZJvuIS",
    "outputId": "38bcec91-335e-4fee-e4a7-325902253022"
   },
   "outputs": [
    {
     "data": {
      "text/plain": [
       "0"
      ]
     },
     "execution_count": 43,
     "metadata": {},
     "output_type": "execute_result"
    }
   ],
   "source": [
    "df1.duplicated().sum()"
   ]
  },
  {
   "cell_type": "markdown",
   "metadata": {
    "id": "Ts-e3RcRvzFq"
   },
   "source": [
    "## 3. Analytics"
   ]
  },
  {
   "cell_type": "code",
   "execution_count": null,
   "metadata": {
    "id": "cDB9jJAPvz6i"
   },
   "outputs": [],
   "source": [
    "#check correlation\n",
    "df1.corr()"
   ]
  },
  {
   "cell_type": "code",
   "execution_count": 261,
   "metadata": {
    "colab": {
     "base_uri": "https://localhost:8080/",
     "height": 643
    },
    "executionInfo": {
     "elapsed": 2061,
     "status": "ok",
     "timestamp": 1648716289489,
     "user": {
      "displayName": "Ann Tran",
      "userId": "15798122337385944061"
     },
     "user_tz": -420
    },
    "id": "1KnzJrbpJdeZ",
    "outputId": "d1d6b36e-c35d-4d1e-9e4c-91c5516d0307"
   },
   "outputs": [
    {
     "data": {
      "image/png": "[encoded data removed]",
      "text/plain": [
       "<Figure size 720x576 with 2 Axes>"
      ]
     },
     "metadata": {
      "needs_background": "light"
     },
     "output_type": "display_data"
    }
   ],
   "source": [
    "plt.figure(figsize=(10,8))\n",
    "corr = df1.corr()\n",
    "mask = np.triu(np.ones_like(corr, dtype=bool))\n",
    "mask = mask[1:, :-1]\n",
    "corr = corr.iloc[1:,:-1].copy()\n",
    "sns.heatmap(corr,mask=mask, cmap = 'YlGnBu', annot = True, vmin= -1, vmax= 1, linewidths=.5)\n",
    "plt.title('CORRELATION BETWEEN FEATURES\\n', fontsize=16);"
   ]
  },
  {
   "cell_type": "code",
   "execution_count": 273,
   "metadata": {
    "colab": {
     "base_uri": "https://localhost:8080/",
     "height": 363
    },
    "executionInfo": {
     "elapsed": 458,
     "status": "ok",
     "timestamp": 1648729757253,
     "user": {
      "displayName": "Ann Tran",
      "userId": "15798122337385944061"
     },
     "user_tz": -420
    },
    "id": "mhLN2Db5OVnV",
    "outputId": "1223fb2a-8187-43a3-f07d-a6b2d66dff23"
   },
   "outputs": [
    {
     "data": {
      "text/html": [
       "\n",
       "  <div id=\"df-f7e3fc15-a117-4abf-a0d6-3562224ee915\">\n",
       "    <div class=\"colab-df-container\">\n",
       "      <div>\n",
       "<style scoped>\n",
       "    .dataframe tbody tr th:only-of-type {\n",
       "        vertical-align: middle;\n",
       "    }\n",
       "\n",
       "    .dataframe tbody tr th {\n",
       "        vertical-align: top;\n",
       "    }\n",
       "\n",
       "    .dataframe thead th {\n",
       "        text-align: right;\n",
       "    }\n",
       "</style>\n",
       "<table border=\"1\" class=\"dataframe\">\n",
       "  <thead>\n",
       "    <tr style=\"text-align: right;\">\n",
       "      <th></th>\n",
       "      <th>VAR1</th>\n",
       "      <th>VAR2</th>\n",
       "      <th>Correlation</th>\n",
       "    </tr>\n",
       "  </thead>\n",
       "  <tbody>\n",
       "    <tr>\n",
       "      <th>127</th>\n",
       "      <td>Bankruptcies</td>\n",
       "      <td>NumberofCreditProblems</td>\n",
       "      <td>0.753917</td>\n",
       "    </tr>\n",
       "    <tr>\n",
       "      <th>139</th>\n",
       "      <td>TaxLiens</td>\n",
       "      <td>NumberofCreditProblems</td>\n",
       "      <td>0.579917</td>\n",
       "    </tr>\n",
       "    <tr>\n",
       "      <th>99</th>\n",
       "      <td>CurrentCreditBalance</td>\n",
       "      <td>MonthlyDebt</td>\n",
       "      <td>0.476694</td>\n",
       "    </tr>\n",
       "    <tr>\n",
       "      <th>38</th>\n",
       "      <td>MonthlyDebt</td>\n",
       "      <td>AnnualIncome</td>\n",
       "      <td>0.418605</td>\n",
       "    </tr>\n",
       "    <tr>\n",
       "      <th>75</th>\n",
       "      <td>NumberofOpenAccounts</td>\n",
       "      <td>MonthlyDebt</td>\n",
       "      <td>0.409278</td>\n",
       "    </tr>\n",
       "    <tr>\n",
       "      <th>98</th>\n",
       "      <td>CurrentCreditBalance</td>\n",
       "      <td>AnnualIncome</td>\n",
       "      <td>0.268953</td>\n",
       "    </tr>\n",
       "    <tr>\n",
       "      <th>102</th>\n",
       "      <td>CurrentCreditBalance</td>\n",
       "      <td>NumberofOpenAccounts</td>\n",
       "      <td>0.227193</td>\n",
       "    </tr>\n",
       "    <tr>\n",
       "      <th>100</th>\n",
       "      <td>CurrentCreditBalance</td>\n",
       "      <td>YearsofCreditHistory</td>\n",
       "      <td>0.209070</td>\n",
       "    </tr>\n",
       "    <tr>\n",
       "      <th>51</th>\n",
       "      <td>YearsofCreditHistory</td>\n",
       "      <td>MonthlyDebt</td>\n",
       "      <td>0.195478</td>\n",
       "    </tr>\n",
       "    <tr>\n",
       "      <th>50</th>\n",
       "      <td>YearsofCreditHistory</td>\n",
       "      <td>AnnualIncome</td>\n",
       "      <td>0.136951</td>\n",
       "    </tr>\n",
       "  </tbody>\n",
       "</table>\n",
       "</div>\n",
       "      <button class=\"colab-df-convert\" onclick=\"convertToInteractive('df-f7e3fc15-a117-4abf-a0d6-3562224ee915')\"\n",
       "              title=\"Convert this dataframe to an interactive table.\"\n",
       "              style=\"display:none;\">\n",
       "        \n",
       "  <svg xmlns=\"http://www.w3.org/2000/svg\" height=\"24px\"viewBox=\"0 0 24 24\"\n",
       "       width=\"24px\">\n",
       "    <path d=\"M0 0h24v24H0V0z\" fill=\"none\"/>\n",
       "    <path d=\"M18.56 5.44l.94 2.06.94-2.06 2.06-.94-2.06-.94-.94-2.06-.94 2.06-2.06.94zm-11 1L8.5 8.5l.94-2.06 2.06-.94-2.06-.94L8.5 2.5l-.94 2.06-2.06.94zm10 10l.94 2.06.94-2.06 2.06-.94-2.06-.94-.94-2.06-.94 2.06-2.06.94z\"/><path d=\"M17.41 7.96l-1.37-1.37c-.4-.4-.92-.59-1.43-.59-.52 0-1.04.2-1.43.59L10.3 9.45l-7.72 7.72c-.78.78-.78 2.05 0 2.83L4 21.41c.39.39.9.59 1.41.59.51 0 1.02-.2 1.41-.59l7.78-7.78 2.81-2.81c.8-.78.8-2.07 0-2.86zM5.41 20L4 18.59l7.72-7.72 1.47 1.35L5.41 20z\"/>\n",
       "  </svg>\n",
       "      </button>\n",
       "      \n",
       "  <style>\n",
       "    .colab-df-container {\n",
       "      display:flex;\n",
       "      flex-wrap:wrap;\n",
       "      gap: 12px;\n",
       "    }\n",
       "\n",
       "    .colab-df-convert {\n",
       "      background-color: #E8F0FE;\n",
       "      border: none;\n",
       "      border-radius: 50%;\n",
       "      cursor: pointer;\n",
       "      display: none;\n",
       "      fill: #1967D2;\n",
       "      height: 32px;\n",
       "      padding: 0 0 0 0;\n",
       "      width: 32px;\n",
       "    }\n",
       "\n",
       "    .colab-df-convert:hover {\n",
       "      background-color: #E2EBFA;\n",
       "      box-shadow: 0px 1px 2px rgba(60, 64, 67, 0.3), 0px 1px 3px 1px rgba(60, 64, 67, 0.15);\n",
       "      fill: #174EA6;\n",
       "    }\n",
       "\n",
       "    [theme=dark] .colab-df-convert {\n",
       "      background-color: #3B4455;\n",
       "      fill: #D2E3FC;\n",
       "    }\n",
       "\n",
       "    [theme=dark] .colab-df-convert:hover {\n",
       "      background-color: #434B5C;\n",
       "      box-shadow: 0px 1px 3px 1px rgba(0, 0, 0, 0.15);\n",
       "      filter: drop-shadow(0px 1px 2px rgba(0, 0, 0, 0.3));\n",
       "      fill: #FFFFFF;\n",
       "    }\n",
       "  </style>\n",
       "\n",
       "      <script>\n",
       "        const buttonEl =\n",
       "          document.querySelector('#df-f7e3fc15-a117-4abf-a0d6-3562224ee915 button.colab-df-convert');\n",
       "        buttonEl.style.display =\n",
       "          google.colab.kernel.accessAllowed ? 'block' : 'none';\n",
       "\n",
       "        async function convertToInteractive(key) {\n",
       "          const element = document.querySelector('#df-f7e3fc15-a117-4abf-a0d6-3562224ee915');\n",
       "          const dataTable =\n",
       "            await google.colab.kernel.invokeFunction('convertToInteractive',\n",
       "                                                     [key], {});\n",
       "          if (!dataTable) return;\n",
       "\n",
       "          const docLinkHtml = 'Like what you see? Visit the ' +\n",
       "            '<a target=\"_blank\" href=https://colab.research.google.com/notebooks/data_table.ipynb>data table notebook</a>'\n",
       "            + ' to learn more about interactive tables.';\n",
       "          element.innerHTML = '';\n",
       "          dataTable['output_type'] = 'display_data';\n",
       "          await google.colab.output.renderOutput(dataTable, element);\n",
       "          const docLink = document.createElement('div');\n",
       "          docLink.innerHTML = docLinkHtml;\n",
       "          element.appendChild(docLink);\n",
       "        }\n",
       "      </script>\n",
       "    </div>\n",
       "  </div>\n",
       "  "
      ],
      "text/plain": [
       "                     VAR1                    VAR2  Correlation\n",
       "127          Bankruptcies  NumberofCreditProblems     0.753917\n",
       "139              TaxLiens  NumberofCreditProblems     0.579917\n",
       "99   CurrentCreditBalance             MonthlyDebt     0.476694\n",
       "38            MonthlyDebt            AnnualIncome     0.418605\n",
       "75   NumberofOpenAccounts             MonthlyDebt     0.409278\n",
       "98   CurrentCreditBalance            AnnualIncome     0.268953\n",
       "102  CurrentCreditBalance    NumberofOpenAccounts     0.227193\n",
       "100  CurrentCreditBalance    YearsofCreditHistory     0.209070\n",
       "51   YearsofCreditHistory             MonthlyDebt     0.195478\n",
       "50   YearsofCreditHistory            AnnualIncome     0.136951"
      ]
     },
     "execution_count": 273,
     "metadata": {},
     "output_type": "execute_result"
    }
   ],
   "source": [
    "#select top 10 corr\n",
    "\n",
    "c1 = df1.corr()\n",
    "c1= c1.where(np.triu(np.ones(corr_repayer.shape),k=1).astype(np.bool))\n",
    "c2 = c1.unstack().reset_index()\n",
    "c2.columns =['VAR1','VAR2','Correlation']\n",
    "c2.dropna(subset = [\"Correlation\"], inplace = True)\n",
    "c2[\"Correlation\"]=c2[\"Correlation\"].abs() \n",
    "c2.sort_values(by='Correlation', ascending=False, inplace=True) \n",
    "c2.head(10)"
   ]
  },
  {
   "cell_type": "markdown",
   "metadata": {
    "id": "X3UvOaQSOHPg"
   },
   "source": [
    "*Comment\n",
    "- "
   ]
  },
  {
   "cell_type": "markdown",
   "metadata": {
    "id": "I3rNMldbOHJC"
   },
   "source": []
  },
  {
   "cell_type": "code",
   "execution_count": 59,
   "metadata": {
    "colab": {
     "base_uri": "https://localhost:8080/",
     "height": 447
    },
    "executionInfo": {
     "elapsed": 439,
     "status": "ok",
     "timestamp": 1648693800650,
     "user": {
      "displayName": "Ann Tran",
      "userId": "15798122337385944061"
     },
     "user_tz": -420
    },
    "id": "9F-xGOiT2Mcw",
    "outputId": "60d8c38a-cf41-4a40-80c1-753dd655ad25"
   },
   "outputs": [
    {
     "data": {
      "image/png": "[encoded data removed]",
      "text/plain": [
       "<Figure size 504x504 with 1 Axes>"
      ]
     },
     "metadata": {},
     "output_type": "display_data"
    }
   ],
   "source": [
    "plt.figure(figsize=(7,7))\n",
    "labels = 'Long Term','Short Term'\n",
    "sizes=[(df1['Term'].value_counts()['Short Term']),(df1['Term'].value_counts()['Long Term'])]\n",
    "explode = (0, 0.1)  \n",
    "plt.pie(sizes, explode=explode, labels=labels, autopct='%1.2f%%',shadow=True, startangle=90)\n",
    "plt.title('LONG TERM AND SHORT TERM LOAN\\n', fontsize=16)\n",
    "plt.show()\n"
   ]
  },
  {
   "cell_type": "markdown",
   "metadata": {
    "id": "Feu0LphAEGyt"
   },
   "source": [
    "*Comment: the data we have here shows that most of the loan are long term, which is 73.74% of total"
   ]
  },
  {
   "cell_type": "code",
   "execution_count": null,
   "metadata": {
    "id": "qlOf4Jba94Cw"
   },
   "outputs": [],
   "source": [
    "df2=df1.loc[(df1['CreditScore']<5000)&(df1['CreditScore']>730)]\n",
    "df2['CreditScore'].value_counts()"
   ]
  },
  {
   "cell_type": "code",
   "execution_count": 123,
   "metadata": {
    "colab": {
     "base_uri": "https://localhost:8080/",
     "height": 319
    },
    "executionInfo": {
     "elapsed": 931,
     "status": "ok",
     "timestamp": 1648699420260,
     "user": {
      "displayName": "Ann Tran",
      "userId": "15798122337385944061"
     },
     "user_tz": -420
    },
    "id": "4boc3xaH21fg",
    "outputId": "6893f3fe-58ae-4968-c258-543d71437123"
   },
   "outputs": [
    {
     "data": {
      "image/png": "[encoded data removed]",
      "text/plain": [
       "<Figure size 1080x1080 with 2 Axes>"
      ]
     },
     "metadata": {
      "needs_background": "light"
     },
     "output_type": "display_data"
    }
   ],
   "source": [
    "#terms and creditscore\n",
    "plt.figure(figsize = [15,15])\n",
    "plt.subplot(3,2,1)\n",
    "sns.boxplot(x=df1['Term'],y=df1['CreditScore'],\n",
    "            palette='Purples_r', data = df1.sort_values('CreditScore',ascending=False));\n",
    "plt.title('before dropping outliers',fontsize = 14 )            \n",
    "\n",
    "\n",
    "plt.subplot(3,2,2)\n",
    "sns.boxplot(x=df1['Term'],y=df2['CreditScore'],\n",
    "            palette='Purples_r', data = df2.sort_values('CreditScore',ascending=False));\n",
    "plt.title('after dropping outliers',fontsize = 14 )            \n",
    "\n",
    "plt.show()"
   ]
  },
  {
   "cell_type": "markdown",
   "metadata": {
    "id": "C9bLhmdDEhli"
   },
   "source": [
    "*Comment:\n",
    "- There is a significant amount of outlier credit score >5000 and <1000 , so we will check again exclude them.\n",
    "- boxplot shows that median of short term credit score is at 742 and higher than long term which is 3=735.5\n",
    "- when the credit score is even, the longterm are more likeky rightskew, which means most of longterm loan has low credit score"
   ]
  },
  {
   "cell_type": "code",
   "execution_count": null,
   "metadata": {
    "id": "hxYozm6RCed6"
   },
   "outputs": [],
   "source": [
    "\n",
    "print(np.where((df1['CurrentLoanAmount']>60000)& (df1['CurrentLoanAmount']<65000)))"
   ]
  },
  {
   "cell_type": "code",
   "execution_count": 152,
   "metadata": {
    "colab": {
     "base_uri": "https://localhost:8080/",
     "height": 319
    },
    "executionInfo": {
     "elapsed": 905,
     "status": "ok",
     "timestamp": 1648700955038,
     "user": {
      "displayName": "Ann Tran",
      "userId": "15798122337385944061"
     },
     "user_tz": -420
    },
    "id": "4wRGfPOSJEXZ",
    "outputId": "ef55670c-59b7-4c0e-f539-a38886a4c455"
   },
   "outputs": [
    {
     "data": {
      "image/png": "[encoded data removed]",
      "text/plain": [
       "<Figure size 1080x1080 with 2 Axes>"
      ]
     },
     "metadata": {
      "needs_background": "light"
     },
     "output_type": "display_data"
    }
   ],
   "source": [
    "#term and current loan amount\n",
    "\n",
    "plt.figure(figsize = [15,15])\n",
    "plt.subplot(3,2,1)\n",
    "sns.boxplot(x=df1['Term'],y=df1['CurrentLoanAmount'],\n",
    "            palette='Purples_r', data = df1.sort_values('CurrentLoanAmount',ascending=False));\n",
    "plt.title('before dropping outliers',fontsize = 14 )\n",
    "\n",
    "\n",
    "plt.subplot(3,2,2)\n",
    "sns.boxplot(x=df1['Term'],y=df3['CurrentLoanAmount'],\n",
    "            palette='Purples_r', data = df3.sort_values('CurrentLoanAmount',ascending=False));\n",
    "plt.title('after dropping outliers',fontsize = 14 )\n",
    "plt.show()"
   ]
  },
  {
   "cell_type": "markdown",
   "metadata": {
    "id": "Mxrd9vkhPFJc"
   },
   "source": [
    "*Comment:\n",
    "- as expected, most of loans are long term, current loan amount most likely they are even\n",
    "- on the other hand, short term loan amount are right skew and median is closer to Q1"
   ]
  },
  {
   "cell_type": "code",
   "execution_count": null,
   "metadata": {
    "id": "0lOXLNkCTpHP"
   },
   "outputs": [],
   "source": [
    "df4=df1.loc[(df1['AnnualIncome']>0)& (df1['AnnualIncome']<1300000)]\n",
    "df4['AnnualIncome'].sort_values(ascending = False).value_counts()"
   ]
  },
  {
   "cell_type": "code",
   "execution_count": 207,
   "metadata": {
    "colab": {
     "base_uri": "https://localhost:8080/",
     "height": 338
    },
    "executionInfo": {
     "elapsed": 1157,
     "status": "ok",
     "timestamp": 1648703030409,
     "user": {
      "displayName": "Ann Tran",
      "userId": "15798122337385944061"
     },
     "user_tz": -420
    },
    "id": "XpR4KAm9PKH3",
    "outputId": "5b449f1e-5be0-4558-c9b5-feec6a445c4b"
   },
   "outputs": [
    {
     "data": {
      "text/plain": [
       "Text(0.5, 1.0, 'after dropping outliers')"
      ]
     },
     "execution_count": 207,
     "metadata": {},
     "output_type": "execute_result"
    },
    {
     "data": {
      "image/png": "[encoded data removed]",
      "text/plain": [
       "<Figure size 1080x1080 with 2 Axes>"
      ]
     },
     "metadata": {
      "needs_background": "light"
     },
     "output_type": "display_data"
    }
   ],
   "source": [
    "#term and annual income\n",
    "plt.figure(figsize = [15,15])\n",
    "plt.subplot(3,2,1)\n",
    "sns.boxplot(x=df1['Term'],y=df1['AnnualIncome'],\n",
    "            palette='Purples_r', data = df1.sort_values('AnnualIncome',ascending=False));\n",
    "plt.title('before dropping outliers',fontsize = 14 )\n",
    "\n",
    "plt.subplot(3,2,2)\n",
    "sns.boxplot(x=df1['Term'],y=df4['AnnualIncome'],\n",
    "            palette='Purples_r', data = df4.sort_values('AnnualIncome',ascending=False));\n",
    "plt.title('after dropping outliers',fontsize = 14 )"
   ]
  },
  {
   "cell_type": "markdown",
   "metadata": {
    "id": "mczZbOyAQQSI"
   },
   "source": [
    "*Comment:\n",
    "- customers with more annual income prefer loan in long term as the box is left skew, but also there are some lower income choose long term but most of them prefer short term"
   ]
  },
  {
   "cell_type": "markdown",
   "metadata": {
    "id": "TnWFOhK6QQMA"
   },
   "source": []
  },
  {
   "cell_type": "code",
   "execution_count": 232,
   "metadata": {
    "colab": {
     "base_uri": "https://localhost:8080/"
    },
    "executionInfo": {
     "elapsed": 354,
     "status": "ok",
     "timestamp": 1648703490692,
     "user": {
      "displayName": "Ann Tran",
      "userId": "15798122337385944061"
     },
     "user_tz": -420
    },
    "id": "BQkVVtgdXEt7",
    "outputId": "81be30a7-ce28-410c-94a3-02e7b0c40416"
   },
   "outputs": [
    {
     "data": {
      "text/plain": [
       "13359.85    8\n",
       "14726.52    7\n",
       "15903.00    7\n",
       "10647.98    7\n",
       "17132.11    6\n",
       "           ..\n",
       "16275.59    1\n",
       "16275.40    1\n",
       "28382.58    1\n",
       "16274.64    1\n",
       "7.41        1\n",
       "Name: MonthlyDebt, Length: 63050, dtype: int64"
      ]
     },
     "execution_count": 232,
     "metadata": {},
     "output_type": "execute_result"
    }
   ],
   "source": [
    "df5=df1.loc[(df1['MonthlyDebt']>00000)& (df1['MonthlyDebt']<45000)]\n",
    "df5['MonthlyDebt'].sort_values(ascending = False).value_counts()"
   ]
  },
  {
   "cell_type": "code",
   "execution_count": 233,
   "metadata": {
    "colab": {
     "base_uri": "https://localhost:8080/",
     "height": 338
    },
    "executionInfo": {
     "elapsed": 1534,
     "status": "ok",
     "timestamp": 1648703493989,
     "user": {
      "displayName": "Ann Tran",
      "userId": "15798122337385944061"
     },
     "user_tz": -420
    },
    "id": "E3RSkA_8XAkH",
    "outputId": "7365b91d-5bbf-4638-cfe9-fbb46ae728e7"
   },
   "outputs": [
    {
     "data": {
      "text/plain": [
       "Text(0.5, 1.0, 'before dropping outliers')"
      ]
     },
     "execution_count": 233,
     "metadata": {},
     "output_type": "execute_result"
    },
    {
     "data": {
      "image/png": "[encoded data removed]",
      "text/plain": [
       "<Figure size 1080x1080 with 2 Axes>"
      ]
     },
     "metadata": {
      "needs_background": "light"
     },
     "output_type": "display_data"
    }
   ],
   "source": [
    "#term and monthly debt\n",
    "plt.figure(figsize = [15,15])\n",
    "plt.subplot(3,2,1)\n",
    "sns.boxplot(x=df1['Term'],y=df1['MonthlyDebt'],\n",
    "            palette='Purples_r', data = df1.sort_values('MonthlyDebt',ascending=False));\n",
    "plt.title('before dropping outliers',fontsize = 14 )\n",
    "\n",
    "plt.subplot(3,2,2)\n",
    "sns.boxplot(x=df1['Term'],y=df5['MonthlyDebt'],\n",
    "            palette='Purples_r', data = df5.sort_values('MonthlyDebt',ascending=False));\n",
    "plt.title('after dropping outliers',fontsize = 14 )\n"
   ]
  },
  {
   "cell_type": "markdown",
   "metadata": {
    "id": "ZKTA597QRGwp"
   },
   "source": [
    "*Comment:\n",
    "-boxes of both long and short term monthlydebt are more right skew, short term are more than long term "
   ]
  },
  {
   "cell_type": "markdown",
   "metadata": {
    "id": "lF7Dv4eZRGqX"
   },
   "source": []
  },
  {
   "cell_type": "code",
   "execution_count": 271,
   "metadata": {
    "colab": {
     "base_uri": "https://localhost:8080/",
     "height": 459
    },
    "executionInfo": {
     "elapsed": 422,
     "status": "ok",
     "timestamp": 1648718978970,
     "user": {
      "displayName": "Ann Tran",
      "userId": "15798122337385944061"
     },
     "user_tz": -420
    },
    "id": "4kYLlCkOY0YJ",
    "outputId": "4e20e8f4-4bf4-45d6-f459-32518e457c30"
   },
   "outputs": [
    {
     "data": {
      "image/png": "[encoded data removed]",
      "text/plain": [
       "<Figure size 504x504 with 1 Axes>"
      ]
     },
     "metadata": {
      "needs_background": "light"
     },
     "output_type": "display_data"
    }
   ],
   "source": [
    "#term and house own\n",
    "plt.figure(figsize = [7,7])\n",
    "sns.countplot(x='HomeOwnership', hue='Term', data=df1,palette = 'Purples_r')\n",
    "plt.title('Loan terms and home ownership',fontsize=14)\n",
    "plt.show()"
   ]
  },
  {
   "cell_type": "markdown",
   "metadata": {
    "id": "AomFy6-GRnwX"
   },
   "source": [
    "*Comment:\n",
    "-most of customers dont own house, most short term customers have home mortgage or rent house than long term"
   ]
  },
  {
   "cell_type": "markdown",
   "metadata": {
    "id": "52rX34nPRns5"
   },
   "source": []
  },
  {
   "cell_type": "code",
   "execution_count": 248,
   "metadata": {
    "colab": {
     "base_uri": "https://localhost:8080/",
     "height": 459
    },
    "executionInfo": {
     "elapsed": 685,
     "status": "ok",
     "timestamp": 1648704653606,
     "user": {
      "displayName": "Ann Tran",
      "userId": "15798122337385944061"
     },
     "user_tz": -420
    },
    "id": "ECz5un0FcR-3",
    "outputId": "5cf1c1fb-bf28-42dc-dfe6-1c59522fca55"
   },
   "outputs": [
    {
     "data": {
      "image/png": "[encoded data removed]",
      "text/plain": [
       "<Figure size 504x504 with 1 Axes>"
      ]
     },
     "metadata": {
      "needs_background": "light"
     },
     "output_type": "display_data"
    }
   ],
   "source": [
    "#term and loan purpose\n",
    "plt.figure(figsize = [7,7])\n",
    "sns.countplot(y='Purpose', hue='Term', data=df1,palette = 'Purples_r',order= df1['Purpose'].value_counts().index)\n",
    "plt.title('Loan terms and loan purpose',fontsize=14)\n",
    "plt.legend(title=\"Term\", loc=\"lower right\")\n",
    "plt.show()"
   ]
  },
  {
   "cell_type": "markdown",
   "metadata": {
    "id": "fPZi0949Ud5a"
   },
   "source": [
    "*Comment:\n",
    "- Loan products prefered are  debt consolidation,then home improvement, business loan, some car loans and other loans.\n",
    "-short term loans show significant mounts of requires\n"
   ]
  }
 ],
 "metadata": {
  "colab": {
   "authorship_tag": "ABX9TyOiEmgL3gmaDrMv1IYaZZmJ",
   "collapsed_sections": [],
   "mount_file_id": "1Y2dnpoOI8H7fplWFt2CyDH4oqfuU-7lk",
   "name": "Untitled0.ipynb",
   "provenance": []
  },
  "kernelspec": {
   "display_name": "Python 3 (ipykernel)",
   "language": "python",
   "name": "python3"
  },
  "language_info": {
   "codemirror_mode": {
    "name": "ipython",
    "version": 3
   },
   "file_extension": ".py",
   "mimetype": "text/x-python",
   "name": "python",
   "nbconvert_exporter": "python",
   "pygments_lexer": "ipython3",
   "version": "3.9.7"
  }
 },
 "nbformat": 4,
 "nbformat_minor": 1
}
